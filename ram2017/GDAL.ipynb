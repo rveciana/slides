{
 "metadata": {
  "name": "GDAL"
 }, 
 "nbformat": 2, 
 "worksheets": [
  {
   "cells": [
    {
     "cell_type": "code", 
     "collapsed": true, 
     "input": [
      "import gdal", 
      "import matplotlib.pyplot as plt", 
      "from mpl_toolkits.basemap import Basemap"
     ], 
     "language": "python", 
     "outputs": [], 
     "prompt_number": 1
    }, 
    {
     "cell_type": "markdown", 
     "source": [
      "Obrir i consultar les dades d'un fitxer *raster*"
     ]
    }, 
    {
     "cell_type": "code", 
     "collapsed": true, 
     "input": [
      "ds = gdal.Open(\"/home/rveciana/Dropbox/Programaci\u00f3/SIGTE/data/XXX_RN1_20131117_0000_CMPAC1C_1h.tif\")"
     ], 
     "language": "python", 
     "outputs": [], 
     "prompt_number": 2
    }, 
    {
     "cell_type": "code", 
     "collapsed": false, 
     "input": [
      "ds.GetProjection()"
     ], 
     "language": "python", 
     "outputs": [], 
     "prompt_number": 3
    }, 
    {
     "cell_type": "code", 
     "collapsed": false, 
     "input": [
      "ds.GetGeoTransform()"
     ], 
     "language": "python", 
     "outputs": [], 
     "prompt_number": 4
    }, 
    {
     "cell_type": "code", 
     "collapsed": true, 
     "input": [
      "data = ds.ReadAsArray()"
     ], 
     "language": "python", 
     "outputs": [], 
     "prompt_number": 5
    }, 
    {
     "cell_type": "markdown", 
     "source": [
      "Generem un objecte basemap, per poder veure l'output"
     ]
    }, 
    {
     "cell_type": "code", 
     "collapsed": true, 
     "input": [
      "m = Basemap(width = 272257.508, \\", 
      "        height = 269254.668, \\", 
      "        resolution = 'h', \\", 
      "        projection = 'tmerc', \\", 
      "        lon_0 = 1.727858333, \\", 
      "        lat_0 = 41.715877778)"
     ], 
     "language": "python", 
     "outputs": [], 
     "prompt_number": 6
    }, 
    {
     "cell_type": "code", 
     "collapsed": true, 
     "input": [
      "x = numpy.linspace(0, 272257.508, 272)", 
      "y = numpy.linspace(269254.668, 0, 269)", 
      "", 
      "xx, yy = numpy.meshgrid(x, y)"
     ], 
     "language": "python", 
     "outputs": [], 
     "prompt_number": 7
    }, 
    {
     "cell_type": "code", 
     "collapsed": false, 
     "input": [
      "cs = m.contourf(xx,yy,data)", 
      "", 
      "plt.show()"
     ], 
     "language": "python", 
     "outputs": [], 
     "prompt_number": 8
    }, 
    {
     "cell_type": "markdown", 
     "source": [
      "Operacions amb m\u00e9s dades"
     ]
    }, 
    {
     "cell_type": "code", 
     "collapsed": true, 
     "input": [
      "ds2 = gdal.Open(\"/home/rveciana/Dropbox/Programaci\u00f3/SIGTE/data/XXX_RN1_20131117_0100_CMPAC1C_1h.tif\")", 
      "data2 = ds2.ReadAsArray()"
     ], 
     "language": "python", 
     "outputs": [], 
     "prompt_number": 9
    }, 
    {
     "cell_type": "code", 
     "collapsed": false, 
     "input": [
      "cs = m.contourf(xx,yy,data+data2)", 
      "", 
      "plt.show()"
     ], 
     "language": "python", 
     "outputs": [], 
     "prompt_number": 10
    }, 
    {
     "cell_type": "markdown", 
     "source": [
      "Zones on no ha plogut la primera hora, per\u00f2 si la segona"
     ]
    }, 
    {
     "cell_type": "code", 
     "collapsed": false, 
     "input": [
      "data_zones = (data < 0.1) * (data2 > 0.1)", 
      "cs = m.contourf(xx,yy,data_zones)", 
      "", 
      "plt.show()"
     ], 
     "language": "python", 
     "outputs": [], 
     "prompt_number": 11
    }, 
    {
     "cell_type": "markdown", 
     "source": [
      "Zones on ha plogut en algun moment"
     ]
    }, 
    {
     "cell_type": "code", 
     "collapsed": false, 
     "input": [
      "hores_pluja = None", 
      "for i in range(0,10):", 
      "    ds = gdal.Open('/home/rveciana/Dropbox/Programaci\u00f3/SIGTE/data/XXX_RN1_20131117_%02d00_CMPAC1C_1h.tif'%i)", 
      "    dades_hora = ds.ReadAsArray()", 
      "    #El valor del p\u00edxel ser\u00e0 1 si dades_hora t\u00e9 un valor > 0.1 (False * 1 = 0 i True * 1 = 1)", 
      "    zones_pluja = 1 * (dades_hora > 0.1)", 
      "    if hores_pluja == None:", 
      "        hores_pluja = zones_pluja", 
      "    else:", 
      "        hores_pluja += zones_pluja", 
      ""
     ], 
     "language": "python", 
     "outputs": [], 
     "prompt_number": 12
    }, 
    {
     "cell_type": "code", 
     "collapsed": false, 
     "input": [
      "cs = m.contourf(xx,yy,hores_pluja)", 
      "", 
      "m.drawmapboundary(fill_color=(0.8,0.8,1))", 
      "m.fillcontinents(color='beige', zorder=0)", 
      "m.readshapefile('/home/rveciana/Dropbox/Programaci\u00f3/SIGTE/data/comarcas', 'comarcas')", 
      "cbar = m.colorbar(cs,location='bottom',pad=\"5%\")", 
      "cbar.set_label(u'hores de pluja')", 
      "", 
      "plt.show()"
     ], 
     "language": "python", 
     "outputs": [], 
     "prompt_number": 13
    }, 
    {
     "cell_type": "code", 
     "collapsed": true, 
     "input": [], 
     "language": "python", 
     "outputs": [], 
     "prompt_number": 13
    }
   ]
  }
 ]
}