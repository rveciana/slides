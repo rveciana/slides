{
 "metadata": {
  "name": "BaseMap"
 }, 
 "nbformat": 2, 
 "worksheets": [
  {
   "cells": [
    {
     "cell_type": "code", 
     "collapsed": true, 
     "input": [
      "from mpl_toolkits.basemap import Basemap", 
      "import matplotlib.pyplot as plt"
     ], 
     "language": "python", 
     "outputs": [], 
     "prompt_number": 1
    }, 
    {
     "cell_type": "code", 
     "collapsed": false, 
     "input": [
      "map = Basemap()", 
      "", 
      "map.drawcoastlines()", 
      "", 
      "plt.show()"
     ], 
     "language": "python", 
     "outputs": [], 
     "prompt_number": 2
    }, 
    {
     "cell_type": "code", 
     "collapsed": false, 
     "input": [
      "map = Basemap(projection='aeqd', lon_0 = 10, lat_0 = 50)", 
      "", 
      "map.drawmapboundary(fill_color='aqua')", 
      "map.fillcontinents(color='coral',lake_color='aqua')", 
      "map.drawcoastlines()", 
      "", 
      "plt.show()"
     ], 
     "language": "python", 
     "outputs": [], 
     "prompt_number": 3
    }, 
    {
     "cell_type": "code", 
     "collapsed": true, 
     "input": [
      "from osgeo import gdal", 
      "from numpy import linspace", 
      "from numpy import meshgrid"
     ], 
     "language": "python", 
     "outputs": [], 
     "prompt_number": 4
    }, 
    {
     "cell_type": "code", 
     "collapsed": true, 
     "input": [
      "map = Basemap(projection='tmerc', ", 
      "              lat_0=0, lon_0=3,", 
      "              llcrnrlon=1.819757266426611, ", 
      "              llcrnrlat=41.583851612359275, ", 
      "              urcrnrlon=1.841589961763497, ", 
      "              urcrnrlat=41.598674173123)"
     ], 
     "language": "python", 
     "outputs": [], 
     "prompt_number": 5
    }, 
    {
     "cell_type": "code", 
     "collapsed": false, 
     "input": [
      "ds = gdal.Open(\"/home/rveciana/git/BasemapTutorial/code_examples/sample_files/dem.tiff\")", 
      "data = ds.ReadAsArray()", 
      "data"
     ], 
     "language": "python", 
     "outputs": [], 
     "prompt_number": 6
    }, 
    {
     "cell_type": "code", 
     "collapsed": true, 
     "input": [
      "x = linspace(0, map.urcrnrx, data.shape[1])", 
      "y = linspace(0, map.urcrnry, data.shape[0])", 
      "", 
      "xx, yy = meshgrid(x, y)"
     ], 
     "language": "python", 
     "outputs": [], 
     "prompt_number": 7
    }, 
    {
     "cell_type": "code", 
     "collapsed": false, 
     "input": [
      "cs = map.contour(xx, yy, data, range(400, 1500, 100), cmap = plt.cm.cubehelix)", 
      "plt.clabel(cs, inline=True, fmt='%1.0f', fontsize=12, colors='k')", 
      "", 
      "plt.show()"
     ], 
     "language": "python", 
     "outputs": [], 
     "prompt_number": 8
    }, 
    {
     "cell_type": "code", 
     "collapsed": false, 
     "input": [
      "map = Basemap(llcrnrlon=-93.7, llcrnrlat=28., urcrnrlon=-66.1, urcrnrlat=39.5,", 
      "              projection='lcc', lat_1=30., lat_2=60., lat_0=34.83158, lon_0=-98.)", 
      "", 
      "ds = gdal.Open(\"/home/rveciana/git/BasemapTutorial/code_examples/sample_files/wrf.tiff\")", 
      "lons = ds.GetRasterBand(4).ReadAsArray()", 
      "lats = ds.GetRasterBand(5).ReadAsArray()", 
      "u10 = ds.GetRasterBand(1).ReadAsArray()", 
      "v10 = ds.GetRasterBand(2).ReadAsArray()", 
      "speed = np.sqrt(u10*u10 + v10*v10)", 
      "", 
      "x, y = map(lons, lats)", 
      "", 
      "yy = np.arange(0, y.shape[0], 4)", 
      "xx = np.arange(0, x.shape[1], 4)", 
      "", 
      "points = np.meshgrid(yy, xx)", 
      "", 
      "map.drawmapboundary(fill_color='aqua')", 
      "map.fillcontinents(color='#cc9955', lake_color='aqua', zorder = 0)", 
      "map.drawcoastlines(color = '0.15')", 
      "", 
      "map.quiver(x[points], y[points], ", 
      "    u10[points], v10[points], speed[points],", 
      "    cmap=plt.cm.autumn)", 
      "", 
      "plt.show()"
     ], 
     "language": "python", 
     "outputs": [], 
     "prompt_number": 9
    }, 
    {
     "cell_type": "code", 
     "collapsed": true, 
     "input": [], 
     "language": "python", 
     "outputs": []
    }
   ]
  }
 ]
}